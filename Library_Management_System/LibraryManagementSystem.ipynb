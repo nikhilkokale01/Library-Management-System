{
 "cells": [
  {
   "cell_type": "code",
   "execution_count": null,
   "id": "23a45166",
   "metadata": {},
   "outputs": [
    {
     "ename": "",
     "evalue": "",
     "output_type": "error",
     "traceback": [
      "\u001b[1;31mRunning cells with 'c:\\Users\\athar\\AppData\\Local\\Programs\\Python\\Python311\\python.exe' requires the ipykernel package.\n",
      "\u001b[1;31mRun the following command to install 'ipykernel' into the Python environment. \n",
      "\u001b[1;31mCommand: 'c:/Users/athar/AppData/Local/Programs/Python/Python311/python.exe -m pip install ipykernel -U --user --force-reinstall'"
     ]
    }
   ],
   "source": [
    "import mysql.connector\n",
    "from mysql.connector import Error\n",
    "import pandas as pd\n",
    "\n",
    "# def connect_mysql(hostname,username,password):\n",
    "#     connection = None\n",
    "#     try:\n",
    "#         connection = mysql.connector.connect(host = hostname,user = username,passwd = password)\n",
    "#         print(\"MySQL connection successful!\")\n",
    "#     except Error as err:\n",
    "#         print(f\"Error:'{err}'\" )\n",
    "#     return connection\n",
    "# connection = connect_mysql(\"localhost\",\"root\",\"Atharva@28\")\n",
    "\n",
    "# class Books:\n",
    "#   def __init__(self,):\n",
    "#     self.name = name\n",
    "#     self.author = author\n",
    "#     self.cupboardNo = cupboardNo\n",
    "#     self.quantity = quantity\n",
    "#     self.isavailable = True\n",
    "#     self.bookcode = bookcode\n",
    "    \n",
    "# def create_Database(connection,query):\n",
    "#     cursor = connection.cursor(buffered=True)\n",
    "#     try:\n",
    "#         cursor.execute(query)\n",
    "#         print(\"Database created successfully!\")\n",
    "# #     except mysql.DatabaseError:\n",
    "# #         pass\n",
    "#     except Error as err:\n",
    "#         print(f\"Error: '{err}'\")\n",
    "        \n",
    "# create_Database(connection,\"CREATE DATABASE Books\")\n",
    "\n",
    "# def Database_Connection(hostname,username,password,db):\n",
    "#     DatabaseConnection = None\n",
    "#     try:\n",
    "#         connection = mysql.connector.connect(host = hostname, user = username, passwd = password,database = db)\n",
    "#         print(\"Database Connected successfully\")\n",
    "#     except Error as err:\n",
    "#         print(f\"Error: '{err}'\")\n",
    "#     return DatabaseConnection\n",
    "\n",
    "# DatabaseConnection = Database_Connection(\"localhost\",\"root\",\"Atharva@28\",\"Books\")\n",
    "\n",
    "# def Queries(connection,query):\n",
    "#     cursor = connection.cursor(buffered=True)\n",
    "#     try:\n",
    "#         cursor.execute(query)\n",
    "#         connection.commit()\n",
    "#         print(\"Query was successful\")\n",
    "#     except Error as err:\n",
    "#         print(f\"Error: '{err}'\")\n",
    "        \n",
    "# Use_Database = \"USE books;\"\n",
    "# Queries(connection,Use_Database)\n",
    "\n",
    "# Create_Table = \"\"\"\n",
    "# CREATE TABLE demo(\n",
    "# id INT PRIMARY KEY,\n",
    "# name VARCHAR(255)\n",
    "# );\"\"\"\n",
    "# Queries(connection,Create_Table)\n",
    "\n",
    "# Insert = \"INSERT INTO demo VALUES(2,'ABC')\"\n",
    "# Queries(connection,Insert)\n",
    "\n",
    "# Select = \"SELECT * FROM demo\"\n",
    "# Queries(connection,Select)\n",
    "\n",
    "# def read(connection,query):\n",
    "#     cursor = connection.cursor(buffered=True)\n",
    "#     result = None\n",
    "#     try:\n",
    "#         cursor.execute(query)\n",
    "#         result = cursor.fetchall()\n",
    "#         return result\n",
    "#     except:\n",
    "#         pass\n",
    "    \n",
    "# read(connection,Select)"
   ]
  },
  {
   "cell_type": "code",
   "execution_count": 3,
   "id": "18a29fea",
   "metadata": {},
   "outputs": [
    {
     "name": "stdout",
     "output_type": "stream",
     "text": [
      "MySQL connection successful!\n"
     ]
    }
   ],
   "source": [
    "def connect_mysql(hostname,username,password):\n",
    "    connection = None\n",
    "    try:\n",
    "        connection = mysql.connector.connect(host = hostname,user = username,passwd = password)\n",
    "        print(\"MySQL connection successful!\")\n",
    "    except Error as err:\n",
    "        print(f\"Error:'{err}'\" )\n",
    "    return connection\n",
    "\n",
    "connection = connect_mysql(\"localhost\",\"root\",\"Atharva@28\")"
   ]
  },
  {
   "cell_type": "code",
   "execution_count": null,
   "id": "dcc7d63d",
   "metadata": {},
   "outputs": [],
   "source": [
    "class Books:\n",
    "  def __init__(self,name,author,cupboardNo,quantity,bookcode):\n",
    "    self.name = name\n",
    "    self.author = author\n",
    "    self.cupboardNo = cupboardNo\n",
    "    self.quantity = quantity\n",
    "    self.isavailable = True\n",
    "    self.bookcode = bookcode"
   ]
  },
  {
   "cell_type": "code",
   "execution_count": 4,
   "id": "635447e7",
   "metadata": {},
   "outputs": [
    {
     "name": "stdout",
     "output_type": "stream",
     "text": [
      "Error: '1007 (HY000): Can't create database 'books'; database exists'\n"
     ]
    }
   ],
   "source": [
    "def create_Database(connection,query):\n",
    "    cursor = connection.cursor(buffered=True)\n",
    "    try:\n",
    "        cursor.execute(query)\n",
    "        print(\"Database created successfully!\")\n",
    "#     except mysql.DatabaseError:\n",
    "#         pass\n",
    "    except Error as err:\n",
    "        print(f\"Error: '{err}'\")\n",
    "        \n",
    "create_Database(connection,\"CREATE DATABASE Books\")"
   ]
  },
  {
   "cell_type": "code",
   "execution_count": 90,
   "id": "60904d23",
   "metadata": {},
   "outputs": [
    {
     "name": "stdout",
     "output_type": "stream",
     "text": [
      "Database Connected successfully\n"
     ]
    }
   ],
   "source": [
    "def Database_Connection(hostname,username,password,db):\n",
    "    DatabaseConnection = None\n",
    "    try:\n",
    "        DatabaseConnection = mysql.connector.connect(host = hostname, user = username, passwd = password,database = db)\n",
    "        print(\"Database Connected successfully\")\n",
    "    except Error as err:\n",
    "        print(f\"Error: '{err}'\")\n",
    "    return DatabaseConnection\n",
    "\n",
    "DatabaseConnection = Database_Connection(\"localhost\",\"root\",\"Atharva@28\",\"Books\")"
   ]
  },
  {
   "cell_type": "code",
   "execution_count": 91,
   "id": "505b11e8",
   "metadata": {},
   "outputs": [],
   "source": [
    "def Queries(connection,query):\n",
    "    cursor = connection.cursor(buffered=True)\n",
    "    try:\n",
    "        cursor.execute(query)\n",
    "        connection.commit()\n",
    "        print(\"Query was successful\")\n",
    "    except Error as err:\n",
    "        print(f\"Error: '{err}'\")\n",
    "        \n"
   ]
  },
  {
   "cell_type": "code",
   "execution_count": 92,
   "id": "07b5708d",
   "metadata": {},
   "outputs": [
    {
     "name": "stdout",
     "output_type": "stream",
     "text": [
      "Query was successful\n"
     ]
    }
   ],
   "source": [
    "Use_Database = \"USE books;\"\n",
    "Queries(connection,Use_Database)"
   ]
  },
  {
   "cell_type": "code",
   "execution_count": 93,
   "id": "179fba4e",
   "metadata": {},
   "outputs": [
    {
     "name": "stdout",
     "output_type": "stream",
     "text": [
      "Error: '1050 (42S01): Table 'data' already exists'\n"
     ]
    }
   ],
   "source": [
    "Create_Table = \"\"\"\n",
    "CREATE TABLE data(\n",
    "Name VARCHAR(255) PRIMARY KEY,\n",
    "Author VARCHAR(255),\n",
    "CupboardNo INT,\n",
    "Quantity INT,\n",
    "IsAvailable INT,\n",
    "BookCode INT\n",
    ");\"\"\"\n",
    "Queries(connection,Create_Table)"
   ]
  },
  {
   "cell_type": "code",
   "execution_count": 94,
   "id": "de036f85",
   "metadata": {},
   "outputs": [
    {
     "name": "stdout",
     "output_type": "stream",
     "text": [
      "Error: '1146 (42S02): Table 'books.demo' doesn't exist'\n"
     ]
    }
   ],
   "source": [
    "Insert = \"INSERT INTO demo VALUES(2,'ABC')\"\n",
    "Queries(connection,Insert)"
   ]
  },
  {
   "cell_type": "code",
   "execution_count": 95,
   "id": "ec37b8b8",
   "metadata": {},
   "outputs": [
    {
     "name": "stdout",
     "output_type": "stream",
     "text": [
      "Query was successful\n"
     ]
    }
   ],
   "source": [
    "Select = \"SELECT * FROM data\"\n",
    "Queries(connection,Select)"
   ]
  },
  {
   "cell_type": "code",
   "execution_count": 96,
   "id": "b40e1421",
   "metadata": {},
   "outputs": [],
   "source": [
    "def read(connection,query):\n",
    "    cursor = connection.cursor(buffered=True)\n",
    "    result = None\n",
    "    try:\n",
    "        cursor.execute(query)\n",
    "        result = cursor.fetchall()\n",
    "        return result\n",
    "    except:\n",
    "        pass"
   ]
  },
  {
   "cell_type": "code",
   "execution_count": null,
   "id": "35bedf0d",
   "metadata": {},
   "outputs": [
    {
     "ename": "",
     "evalue": "",
     "output_type": "error",
     "traceback": [
      "\u001b[1;31mRunning cells with 'c:\\Users\\athar\\AppData\\Local\\Programs\\Python\\Python311\\python.exe' requires the ipykernel package.\n",
      "\u001b[1;31mRun the following command to install 'ipykernel' into the Python environment. \n",
      "\u001b[1;31mCommand: 'c:/Users/athar/AppData/Local/Programs/Python/Python311/python.exe -m pip install ipykernel -U --user --force-reinstall'"
     ]
    }
   ],
   "source": [
    "print(read(connection,Select))"
   ]
  },
  {
   "cell_type": "code",
   "execution_count": 157,
   "id": "0cb80fc8",
   "metadata": {},
   "outputs": [
    {
     "name": "stdout",
     "output_type": "stream",
     "text": [
      "Query was successful\n"
     ]
    }
   ],
   "source": [
    "def AddBook(name,author,cupboardNo,quantity,isavailable,bookcode):\n",
    "    Insert = \"INSERT INTO data VALUES('{}','{}',{},{},{},{})\".format(name,author,cupboardNo,quantity,isavailable,bookcode)\n",
    "    Queries(connection,Insert)\n",
    "AddBook(\"ABC\",\"Atharva\",1,1,True,1)"
   ]
  },
  {
   "cell_type": "code",
   "execution_count": 156,
   "id": "64b8bbd0",
   "metadata": {},
   "outputs": [
    {
     "name": "stdout",
     "output_type": "stream",
     "text": [
      "Query was successful\n"
     ]
    }
   ],
   "source": [
    "def DeleteBook(bookcode):\n",
    "    Delete = \"DELETE FROM data WHERE bookcode = {}\".format(bookcode)\n",
    "    Queries(connection,Delete)\n",
    "DeleteBook(1)"
   ]
  },
  {
   "cell_type": "code",
   "execution_count": 151,
   "id": "0812873a",
   "metadata": {},
   "outputs": [
    {
     "data": {
      "text/plain": [
       "[]"
      ]
     },
     "execution_count": 151,
     "metadata": {},
     "output_type": "execute_result"
    }
   ],
   "source": [
    "def isAvailable_byName(name):\n",
    "    IsAvailable = \"SELECT * FROM data WHERE (name='{}') & (isavailable=1)\".format(name)\n",
    "    result = read(connection,IsAvailable)\n",
    "    if(result):\n",
    "        return result\n",
    "    else:\n",
    "        return 0\n",
    "isAvailable_byName('ABC')"
   ]
  },
  {
   "cell_type": "code",
   "execution_count": 152,
   "id": "d6e2b2af",
   "metadata": {},
   "outputs": [
    {
     "data": {
      "text/plain": [
       "[]"
      ]
     },
     "execution_count": 152,
     "metadata": {},
     "output_type": "execute_result"
    }
   ],
   "source": [
    "def isAvailable_byBookCode(bookcode):\n",
    "    IsAvailable = \"SELECT * FROM data WHERE (bookcode='{}') & (isavailable=1)\".format(bookcode)\n",
    "    result = read(connection,IsAvailable)\n",
    "    if(result):\n",
    "        return result\n",
    "    else:\n",
    "        return 0\n",
    "isAvailable_byName(1)"
   ]
  },
  {
   "cell_type": "code",
   "execution_count": 153,
   "id": "e113075f",
   "metadata": {},
   "outputs": [
    {
     "data": {
      "text/plain": [
       "[('ABC', 'Atharva', 1, 0, 0, 1)]"
      ]
     },
     "execution_count": 153,
     "metadata": {},
     "output_type": "execute_result"
    }
   ],
   "source": [
    "def find_byName(name):\n",
    "    IsAvailable = \"SELECT * FROM data WHERE (name='{}')\".format(name)\n",
    "    result = read(connection,IsAvailable)\n",
    "    return result\n",
    "find_byName('ABC')"
   ]
  },
  {
   "cell_type": "code",
   "execution_count": 160,
   "id": "e4aea12a",
   "metadata": {},
   "outputs": [
    {
     "data": {
      "text/plain": [
       "[]"
      ]
     },
     "execution_count": 160,
     "metadata": {},
     "output_type": "execute_result"
    }
   ],
   "source": [
    "def find_byBookCode(bookcode):\n",
    "    IsAvailable = \"SELECT * FROM data WHERE (bookcode={})\".format(bookcode)\n",
    "    result = read(connection,IsAvailable)\n",
    "    return result\n",
    "find_byBookCode(1)"
   ]
  },
  {
   "cell_type": "code",
   "execution_count": 171,
   "id": "683ba3fc",
   "metadata": {},
   "outputs": [
    {
     "name": "stdout",
     "output_type": "stream",
     "text": [
      "Query was successful\n",
      "Query was successful\n"
     ]
    }
   ],
   "source": [
    "def IssueBook_byName(name):\n",
    "    result = find_byName(name)\n",
    "    if(result[0][-2]):\n",
    "        if(result[0][3]==1):\n",
    "            Update = \"\"\"UPDATE DATA\n",
    "            SET isavailable=0\n",
    "            WHERE name='{}';\"\"\".format(name)\n",
    "            Queries(connection,Update)\n",
    "        Update = \"\"\"UPDATE data\n",
    "        SET quantity = {}\n",
    "        WHERE name='{}';\"\"\".format(result[0][3]-1,name)\n",
    "        Queries(connection,Update)\n",
    "    else:\n",
    "        print(\"Book not available\")\n",
    "    \n",
    "IssueBook_byName('ABC')"
   ]
  },
  {
   "cell_type": "code",
   "execution_count": 172,
   "id": "a08b5ade",
   "metadata": {},
   "outputs": [
    {
     "name": "stdout",
     "output_type": "stream",
     "text": [
      "Book not available\n"
     ]
    }
   ],
   "source": [
    "def IssueBook_byBookCode(bookcode):\n",
    "    result = find_byBookCode(bookcode)\n",
    "    if(result[0][-2]):\n",
    "        if(result[0][3]==1):\n",
    "            Update = \"\"\"UPDATE DATA\n",
    "            SET isavailable=0\n",
    "            WHERE bookcode={};\"\"\".format(bookcode)\n",
    "            Queries(connection,Update)\n",
    "        Update = \"\"\"UPDATE data\n",
    "        SET quantity = {}\n",
    "        WHERE bookcode={};\"\"\".format(result[0][3]-1,bookcode)\n",
    "        Queries(connection,Update)\n",
    "    else:\n",
    "        print(\"Book not available\")\n",
    "\n",
    "        \n",
    "IssueBook_byBookCode(1)"
   ]
  },
  {
   "cell_type": "code",
   "execution_count": 165,
   "id": "a33979d2",
   "metadata": {},
   "outputs": [
    {
     "name": "stdout",
     "output_type": "stream",
     "text": [
      "Query was successful\n"
     ]
    }
   ],
   "source": [
    "def returnbook_byName(name):\n",
    "    result = find_byName(name)\n",
    "    if(result[0][3]==0):\n",
    "        Update = \"\"\"UPDATE DATA\n",
    "        SET isavailable=1\n",
    "        WHERE name='{}';\"\"\".format(name)\n",
    "        Queries(connection,Update)\n",
    "    Update = \"\"\"UPDATE data\n",
    "    SET quantity = {}\n",
    "    WHERE name='{}';\"\"\".format(result[0][3]+1,name)\n",
    "    Queries(connection,Update)\n",
    "        \n",
    "        \n",
    "\n",
    "returnbook_byName('ABC')"
   ]
  },
  {
   "cell_type": "code",
   "execution_count": 163,
   "id": "eadc8e80",
   "metadata": {},
   "outputs": [
    {
     "name": "stdout",
     "output_type": "stream",
     "text": [
      "Query was successful\n"
     ]
    }
   ],
   "source": [
    "def returnbook_byBookCode(bookcode):\n",
    "    result = find_byBookCode(bookcode)\n",
    "    if(result[0][3]==0):\n",
    "        Update = \"\"\"UPDATE DATA\n",
    "        SET isavailable=1\n",
    "        WHERE bookcode={};\"\"\".format(bookcode)\n",
    "        Queries(connection,Update)\n",
    "    Update = \"\"\"UPDATE data\n",
    "    SET quantity = {}\n",
    "    WHERE bookcode={};\"\"\".format(result[0][3]+1,bookcode)\n",
    "    Queries(connection,Update)\n",
    "        \n",
    "        \n",
    "\n",
    "returnbook_byBookCode(1)"
   ]
  },
  {
   "cell_type": "code",
   "execution_count": 20,
   "id": "47c44fce",
   "metadata": {},
   "outputs": [
    {
     "name": "stdout",
     "output_type": "stream",
     "text": [
      "Error: '1051 (42S02): Unknown table 'books.demo''\n"
     ]
    }
   ],
   "source": [
    "Queries(connection,\"DROP TABLE demo\")"
   ]
  }
 ],
 "metadata": {
  "kernelspec": {
   "display_name": "Python 3 (ipykernel)",
   "language": "python",
   "name": "python3"
  },
  "language_info": {
   "codemirror_mode": {
    "name": "ipython",
    "version": 3
   },
   "file_extension": ".py",
   "mimetype": "text/x-python",
   "name": "python",
   "nbconvert_exporter": "python",
   "pygments_lexer": "ipython3",
   "version": "3.11.3"
  }
 },
 "nbformat": 4,
 "nbformat_minor": 5
}
